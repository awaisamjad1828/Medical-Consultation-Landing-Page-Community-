{
 "cells": [
  {
   "cell_type": "code",
   "execution_count": 4,
   "metadata": {},
   "outputs": [],
   "source": [
    "a=\"Awais Amjad\"\n",
    "b=12\n",
    "c=1.1\n",
    "d=2+2j\n",
    "e=[1,2,3,4,[1,2,3,4,5]]\n",
    "f=(\"awais\",\"ali\")\n",
    "g=range(10)\n",
    "h={\"name\":\"AWAIS AMJAD\",\"AGE\":12}\n",
    "i={2,3,4,5}\n",
    "j=frozenset({1,2,3,4})\n",
    "k=True\n",
    "l=None"
   ]
  },
  {
   "cell_type": "code",
   "execution_count": null,
   "metadata": {},
   "outputs": [],
   "source": [
    "txt=\"AWAIS AMJAD IS A STUDENT OF UET LAHORE.\"\n",
    "x=input(\"Enter what you want to find!\")\n",
    "print(x)"
   ]
  },
  {
   "cell_type": "code",
   "execution_count": null,
   "metadata": {},
   "outputs": [],
   "source": []
  },
  {
   "cell_type": "code",
   "execution_count": null,
   "metadata": {},
   "outputs": [],
   "source": []
  }
 ],
 "metadata": {
  "kernelspec": {
   "display_name": "Python 3",
   "language": "python",
   "name": "python3"
  },
  "language_info": {
   "codemirror_mode": {
    "name": "ipython",
    "version": 3
   },
   "file_extension": ".py",
   "mimetype": "text/x-python",
   "name": "python",
   "nbconvert_exporter": "python",
   "pygments_lexer": "ipython3",
   "version": "3.13.1"
  }
 },
 "nbformat": 4,
 "nbformat_minor": 2
}
